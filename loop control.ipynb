{
 "cells": [
  {
   "cell_type": "code",
   "execution_count": 2,
   "id": "eb090f70",
   "metadata": {},
   "outputs": [
    {
     "name": "stdout",
     "output_type": "stream",
     "text": [
      "22 18 1 2 1\n"
     ]
    }
   ],
   "source": [
    "A = \"This is w3resource.com\"\n",
    "countalpha =0\n",
    "countalnum = 0\n",
    "countspace = 0\n",
    "countdot = 0\n",
    "for i in A:\n",
    "    if i.isalpha():\n",
    "        countalpha += 1\n",
    "    elif i.isalnum():\n",
    "        countalnum +=1\n",
    "    elif i == \" \":\n",
    "        countspace +=1\n",
    "    elif i ==\".\":\n",
    "        countdot +=1\n",
    "print(len(A),countalpha,countalnum,countspace,countdot)"
   ]
  },
  {
   "cell_type": "code",
   "execution_count": 1,
   "id": "48bd33d0",
   "metadata": {},
   "outputs": [
    {
     "name": "stdout",
     "output_type": "stream",
     "text": [
      "16\n"
     ]
    }
   ],
   "source": [
    "num1 = 8\n",
    "num2 = 0\n",
    "i = 1\n",
    "\n",
    "while True:\n",
    "    num2 = num2+i\n",
    "    i =i+2\n",
    "    if i>num1:\n",
    "        break\n",
    "print(num2)"
   ]
  },
  {
   "cell_type": "code",
   "execution_count": 1,
   "id": "75d5e7f9",
   "metadata": {},
   "outputs": [
    {
     "name": "stdout",
     "output_type": "stream",
     "text": [
      "50.0\n",
      "alpa\n"
     ]
    }
   ],
   "source": [
    "marksheet = [[\"chi\",20.0],['beta',50.0],['alpa',50.0]]\n",
    "\n",
    "for i in range(len(marksheet)-1):\n",
    "    for j in range(len(marksheet[0])):\n",
    "        if marksheet[i][-1] == marksheet[i+1][-1]:\n",
    "            k=(marksheet[i])\n",
    "            k1=(marksheet[i+1]) \n",
    "print(k[i])\n",
    "print(k1[0])"
   ]
  },
  {
   "cell_type": "code",
   "execution_count": 6,
   "id": "a50b09bc",
   "metadata": {},
   "outputs": [
    {
     "name": "stdout",
     "output_type": "stream",
     "text": [
      "w453\n"
     ]
    },
    {
     "ename": "ValueError",
     "evalue": "invalid literal for int() with base 10: 'w453'",
     "output_type": "error",
     "traceback": [
      "\u001b[1;31m---------------------------------------------------------------------------\u001b[0m",
      "\u001b[1;31mValueError\u001b[0m                                Traceback (most recent call last)",
      "\u001b[1;32m~\\AppData\\Local\\Temp/ipykernel_16864/3648402143.py\u001b[0m in \u001b[0;36m<module>\u001b[1;34m\u001b[0m\n\u001b[0;32m      1\u001b[0m \u001b[1;32mif\u001b[0m \u001b[0m__name__\u001b[0m \u001b[1;33m==\u001b[0m \u001b[1;34m'__main__'\u001b[0m\u001b[1;33m:\u001b[0m\u001b[1;33m\u001b[0m\u001b[1;33m\u001b[0m\u001b[0m\n\u001b[0;32m      2\u001b[0m     \u001b[0mmarksheet\u001b[0m \u001b[1;33m=\u001b[0m \u001b[1;33m[\u001b[0m\u001b[1;33m]\u001b[0m\u001b[1;33m\u001b[0m\u001b[1;33m\u001b[0m\u001b[0m\n\u001b[1;32m----> 3\u001b[1;33m     \u001b[1;32mfor\u001b[0m \u001b[0m_\u001b[0m \u001b[1;32min\u001b[0m \u001b[0mrange\u001b[0m\u001b[1;33m(\u001b[0m\u001b[1;36m0\u001b[0m\u001b[1;33m,\u001b[0m\u001b[0mint\u001b[0m\u001b[1;33m(\u001b[0m\u001b[0minput\u001b[0m\u001b[1;33m(\u001b[0m\u001b[1;33m)\u001b[0m\u001b[1;33m)\u001b[0m\u001b[1;33m)\u001b[0m\u001b[1;33m:\u001b[0m\u001b[1;33m\u001b[0m\u001b[1;33m\u001b[0m\u001b[0m\n\u001b[0m\u001b[0;32m      4\u001b[0m         \u001b[0mmarksheet\u001b[0m\u001b[1;33m.\u001b[0m\u001b[0mappend\u001b[0m\u001b[1;33m(\u001b[0m\u001b[1;33m[\u001b[0m\u001b[0minput\u001b[0m\u001b[1;33m(\u001b[0m\u001b[1;33m)\u001b[0m\u001b[1;33m,\u001b[0m \u001b[0mfloat\u001b[0m\u001b[1;33m(\u001b[0m\u001b[0minput\u001b[0m\u001b[1;33m(\u001b[0m\u001b[1;33m)\u001b[0m\u001b[1;33m)\u001b[0m\u001b[1;33m]\u001b[0m\u001b[1;33m)\u001b[0m\u001b[1;33m\u001b[0m\u001b[1;33m\u001b[0m\u001b[0m\n\u001b[0;32m      5\u001b[0m     \u001b[0marr\u001b[0m \u001b[1;33m=\u001b[0m \u001b[1;33m[\u001b[0m\u001b[1;33m]\u001b[0m\u001b[1;33m\u001b[0m\u001b[1;33m\u001b[0m\u001b[0m\n",
      "\u001b[1;31mValueError\u001b[0m: invalid literal for int() with base 10: 'w453'"
     ]
    }
   ],
   "source": [
    "if __name__ == '__main__':\n",
    "    marksheet = []\n",
    "    for _ in range(0,int(input())):\n",
    "        marksheet.append([input(), float(input())])\n",
    "    arr = []\n",
    "    \n",
    "    \n"
   ]
  },
  {
   "cell_type": "code",
   "execution_count": 5,
   "id": "d6a41b72",
   "metadata": {},
   "outputs": [
    {
     "name": "stdout",
     "output_type": "stream",
     "text": [
      "50.0\n"
     ]
    }
   ],
   "source": [
    "dic = {'jonathon':[23,23,5,34,5],'chandu':[30,50,70],'rebba':[53,534,3,5,34]}\n",
    "\n",
    "arr = dic['chandu'] \n",
    "top = sum(arr)\n",
    "bot = len(arr)\n",
    "print(top/bot)"
   ]
  },
  {
   "cell_type": "code",
   "execution_count": 4,
   "id": "4dde5496",
   "metadata": {},
   "outputs": [
    {
     "name": "stdout",
     "output_type": "stream",
     "text": [
      "1 2 3\n",
      "1 2 4\n",
      "1 3 2\n",
      "1 3 4\n",
      "1 4 2\n",
      "1 4 3\n",
      "2 1 3\n",
      "2 1 4\n",
      "2 3 1\n",
      "2 3 4\n",
      "2 4 1\n",
      "2 4 3\n",
      "3 1 2\n",
      "3 1 4\n",
      "3 2 1\n",
      "3 2 4\n",
      "3 4 1\n",
      "3 4 2\n",
      "4 1 2\n",
      "4 1 3\n",
      "4 2 1\n",
      "4 2 3\n",
      "4 3 1\n",
      "4 3 2\n",
      "24\n"
     ]
    }
   ],
   "source": [
    "#write a program to print unique 3 digit number\n",
    "\n",
    "num = 4\n",
    "count  =0 \n",
    "for i in range(1,5):\n",
    "    for j in range(1,5):\n",
    "        for k in range(1,5):\n",
    "            if(i!=j and j!=k and k!=i):\n",
    "                print(i,j,k)\n",
    "                count +=1\n",
    "print(count)\n"
   ]
  },
  {
   "cell_type": "code",
   "execution_count": 13,
   "id": "580239c7",
   "metadata": {},
   "outputs": [
    {
     "name": "stdout",
     "output_type": "stream",
     "text": [
      "64\n",
      "['111', '112', '113', '114', '121', '122', '123', '124', '131', '132', '133', '134', '141', '142', '143', '144', '211', '212', '213', '214', '221', '222', '223', '224', '231', '232', '233', '234', '241', '242', '243', '244', '311', '312', '313', '314', '321', '322', '323', '324', '331', '332', '333', '334', '341', '342', '343', '344', '411', '412', '413', '414', '421', '422', '423', '424', '431', '432', '433', '434', '441', '442', '443', '444']\n",
      "112\n",
      "112\n",
      "113\n",
      "113\n",
      "114\n",
      "114\n",
      "121\n",
      "121\n",
      "122\n",
      "122\n",
      "123\n",
      "123\n",
      "124\n",
      "124\n",
      "131\n",
      "131\n",
      "132\n",
      "132\n",
      "133\n",
      "133\n",
      "134\n",
      "134\n",
      "141\n",
      "141\n",
      "142\n",
      "142\n",
      "143\n",
      "143\n",
      "144\n",
      "144\n",
      "211\n",
      "211\n",
      "212\n",
      "212\n",
      "213\n",
      "213\n",
      "214\n",
      "214\n",
      "221\n",
      "221\n",
      "222\n",
      "222\n",
      "223\n",
      "223\n",
      "224\n",
      "224\n",
      "231\n",
      "231\n",
      "232\n",
      "232\n",
      "233\n",
      "233\n",
      "234\n",
      "234\n",
      "241\n",
      "241\n",
      "242\n",
      "242\n",
      "243\n",
      "243\n",
      "244\n",
      "244\n",
      "311\n",
      "311\n",
      "312\n",
      "312\n",
      "313\n",
      "313\n",
      "314\n",
      "314\n",
      "321\n",
      "321\n",
      "322\n",
      "322\n",
      "323\n",
      "323\n",
      "324\n",
      "324\n",
      "331\n",
      "331\n",
      "332\n",
      "332\n",
      "333\n",
      "333\n",
      "334\n",
      "334\n",
      "341\n",
      "341\n",
      "342\n",
      "342\n",
      "343\n",
      "343\n",
      "344\n",
      "344\n",
      "411\n",
      "411\n",
      "412\n",
      "412\n",
      "413\n",
      "413\n",
      "414\n",
      "414\n",
      "421\n",
      "421\n",
      "422\n",
      "422\n",
      "423\n",
      "423\n",
      "424\n",
      "424\n",
      "431\n",
      "431\n",
      "432\n",
      "432\n",
      "433\n",
      "433\n",
      "434\n",
      "434\n",
      "441\n",
      "441\n",
      "442\n",
      "442\n",
      "443\n",
      "443\n",
      "62\n"
     ]
    }
   ],
   "source": [
    "#write a program to print unique 3 digit number with 1,2,3,4\n",
    "\n",
    "count  =0 \n",
    "arr = []\n",
    "for i in range(1,5):\n",
    "    for j in range(1,5):\n",
    "        for k in range(1,5):\n",
    "            arr.append((str(i)+str(j)+str(k)))\n",
    "            count +=1\n",
    "print(count)\n",
    "print(arr)\n",
    "countq = 0\n",
    "for i in range(0,len(arr)):\n",
    "    for j in range(1,len(arr)-1):\n",
    "        if arr[i] == arr[j]:\n",
    "            print(arr[i])\n",
    "            print(arr[j])\n",
    "            countq += 1\n",
    "print(countq)"
   ]
  },
  {
   "cell_type": "code",
   "execution_count": 15,
   "id": "2708c3ec",
   "metadata": {},
   "outputs": [
    {
     "name": "stdout",
     "output_type": "stream",
     "text": [
      "5\n",
      "1 \n",
      "1 2 \n",
      "1 2 3 \n",
      "1 2 3 4 \n",
      "1 2 3 4 5 \n"
     ]
    }
   ],
   "source": [
    "n = int(input())\n",
    "for i in range(n):\n",
    "    for j in range(i+1):\n",
    "        print(j+1,end = \" \")\n",
    "    print()"
   ]
  },
  {
   "cell_type": "code",
   "execution_count": 24,
   "id": "5e860814",
   "metadata": {},
   "outputs": [
    {
     "name": "stdout",
     "output_type": "stream",
     "text": [
      "5\n",
      "        5 \n",
      "      4 4 \n",
      "    3 3 3 \n",
      "  2 2 2 2 \n",
      "1 1 1 1 1 \n"
     ]
    }
   ],
   "source": [
    "n = int(input())\n",
    "count = n+1\n",
    "for i in range(n):\n",
    "    for j in range(n-i-1):\n",
    "        print(\" \",end=\" \")\n",
    "    for j in range(i+1):\n",
    "        print(n-i,end = \" \")\n",
    "    count-=1\n",
    "    print()"
   ]
  },
  {
   "cell_type": "code",
   "execution_count": null,
   "id": "d4679103",
   "metadata": {},
   "outputs": [],
   "source": []
  }
 ],
 "metadata": {
  "kernelspec": {
   "display_name": "Python 3 (ipykernel)",
   "language": "python",
   "name": "python3"
  },
  "language_info": {
   "codemirror_mode": {
    "name": "ipython",
    "version": 3
   },
   "file_extension": ".py",
   "mimetype": "text/x-python",
   "name": "python",
   "nbconvert_exporter": "python",
   "pygments_lexer": "ipython3",
   "version": "3.9.7"
  }
 },
 "nbformat": 4,
 "nbformat_minor": 5
}
